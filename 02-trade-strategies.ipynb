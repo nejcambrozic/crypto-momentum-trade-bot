{
 "cells": [
  {
   "cell_type": "code",
   "execution_count": 1,
   "metadata": {},
   "outputs": [],
   "source": [
    "import numpy as np\n",
    "import pandas as pd\n",
    "import matplotlib\n",
    "%matplotlib inline\n",
    "import seaborn as sns\n",
    "sns.set(rc={'figure.figsize':(20,10)})\n",
    "sns.set()"
   ]
  },
  {
   "cell_type": "markdown",
   "metadata": {},
   "source": [
    "## Inspired by time series momentum, as described in\n",
    "`Moskowitz, Tobias, Yao Hua Ooi, and Lasse Heje Pedersen (2012): \"Time Series Momentum.\" Journal of Financial Economics, Vol. 104, 228-250`\n",
    "https://www.sciencedirect.com/science/article/pii/S0304405X11002613\n",
    "\n"
   ]
  },
  {
   "cell_type": "code",
   "execution_count": 2,
   "metadata": {},
   "outputs": [],
   "source": [
    "class TradeBot(): \n",
    "    '''\n",
    "    Assumptions for easier work:\n",
    "        1* infinite usd available\n",
    "        2* bot is always able to execute a trade for self.trade_units at the last seen price\n",
    "    '''\n",
    "    def __init__(self, momentum, df_btc, df_eth, tick_limit=500):\n",
    "        self.tick_limit = tick_limit\n",
    "        self.ticks = {'btc': 0, 'eth': 0}\n",
    "        self.momentum = momentum\n",
    "        self.resampling_interval = '5s'\n",
    "        self.trade_units = 100\n",
    "        self.positions = {'btc': 0, 'eth': 0}\n",
    "        self.assets = {'btc': 0,\n",
    "                       'eth': 0,\n",
    "                       'usd': 0\n",
    "                       }\n",
    "        self.momentum_high = None\n",
    "        \n",
    "        self.df_btc = df_btc\n",
    "        self.df_btc.index = pd.DatetimeIndex(self.df_btc['date'])\n",
    "        \n",
    "        self.df_eth = df_eth\n",
    "        self.df_eth.index = pd.DatetimeIndex(self.df_eth['date'])\n",
    "        self.last_prices = {'btc': self.df_btc.iloc[-1].price,\n",
    "                            'eth': self.df_eth.iloc[-1].price}\n",
    "        \n",
    "    def create_order(self, side, currency, amount):\n",
    "        '''\n",
    "        Mocks creating an order at the exchange with assumption 2* \n",
    "        Keeps track of currently available assets\n",
    "        '''\n",
    "        price = self.last_prices[currency]\n",
    "        print('Creating %s - %s order for %f @%f' % (currency, side, amount, price))\n",
    "        if side == 'short':\n",
    "            self.assets[currency] = self.assets[currency] - amount\n",
    "            self.assets['usd'] = self.assets['usd'] + (amount * price)\n",
    "        elif side == 'long':\n",
    "            self.assets[currency] = self.assets[currency] + amount\n",
    "            self.assets['usd'] = self.assets['usd'] - (amount * price)\n",
    "        else:\n",
    "            raise Exception('Invalid order side', side)\n",
    "    \n",
    "    def update_state(self, data):\n",
    "        if 'btc' in data['symbol']:\n",
    "            self.df_btc = self.df_btc.append(data)\n",
    "            self.df_btc.index = pd.DatetimeIndex(self.df_btc['date'])\n",
    "            self.last_prices['btc'] = data['price']\n",
    "        if 'eth' in data['symbol']:\n",
    "            self.df_eth = self.df_eth.append(data)\n",
    "            self.df_eth.index = pd.DatetimeIndex(self.df_eth['date'])\n",
    "            self.last_prices['eth'] = data['price']\n",
    "        \n",
    "    def calculate_returns(self):\n",
    "        '''\n",
    "        Resamples the data set to a new interval.\n",
    "        Calculates log returnes\n",
    "        Calculates and returnes rolling momentum mean for each currency\n",
    "        '''\n",
    "        dfr_eth = self.df_eth.resample(self.resampling_interval).last()\n",
    "        dfr_eth = dfr_eth[~dfr_eth.id.isnull()] # all None's row occuring\n",
    "        dfr_eth['returns'] = np.log(dfr_eth['price'] / dfr_eth['price'].shift(1))\n",
    "        eth_momentum_returnes = dfr_eth['returns'].rolling(self.momentum).mean().iloc[-1]\n",
    "        \n",
    "        dfr_btc = self.df_btc.resample('5s').last()\n",
    "        dfr_btc = dfr_btc[~dfr_btc.id.isnull()] # all None's row occuring\n",
    "        dfr_btc['returns'] = np.log(dfr_btc['price'] / dfr_btc['price'].shift(1))\n",
    "        btc_momentum_returnes = dfr_btc['returns'].rolling(self.momentum).mean().iloc[-1]\n",
    "\n",
    "        return eth_momentum_returnes, btc_momentum_returnes\n",
    "    \n",
    "    def manage_order(self, currency, current_position, wanted_position):\n",
    "        '''\n",
    "        Decides which order to execute based on current and desired position\n",
    "        '''\n",
    "        if wanted_position == 1:\n",
    "            # go long\n",
    "            if current_position == 0:\n",
    "                self.create_order('long', currency, self.trade_units / 2.)\n",
    "            elif current_position == -1:\n",
    "                self.create_order('long', currency, self.trade_units)\n",
    "            self.positions[currency] = 1\n",
    "        elif wanted_position == -1:\n",
    "            # go short\n",
    "            if current_position == 0:\n",
    "                self.create_order('short', currency, self.trade_units / 2.)\n",
    "            elif current_position == 1:\n",
    "                self.create_order('short', currency, self.trade_units)\n",
    "            self.positions[currency] = -1\n",
    "        \n",
    "    def on_tick(self, data):\n",
    "        '''\n",
    "        Main handler, gets triggered on each new data points\n",
    "        '''\n",
    "        pair = data['symbol']\n",
    "        currency = pair[:3]\n",
    "        self.ticks[currency] += 1\n",
    "\n",
    "        self.update_state(data)\n",
    "        eth_mr, btc_mr = self.calculate_returns()\n",
    "        \n",
    "        # Should decide on strategy:\n",
    "        #  A => Long BTC, Short ETH\n",
    "        #  B => Long ETH, Short BTC\n",
    "        # Instead assume pair indepedancy and decide for each (under assumption 1*)\n",
    "        self.manage_order('eth', self.positions['eth'], np.sign(eth_mr))\n",
    "        self.manage_order('btc', self.positions['btc'], np.sign(btc_mr))\n",
    "\n",
    "        # close out the position at the end of trading window\n",
    "        if sum(self.ticks.values()) == self.tick_limit:\n",
    "            for currency, position in self.positions.items():\n",
    "                if position == 1:\n",
    "                    self.create_order('short', currency, self.trade_units / 2.)\n",
    "                elif position == -1:\n",
    "                    self.create_order('long', currency, self.trade_units / 2.)\n",
    "            print('Trading window ended!')"
   ]
  },
  {
   "cell_type": "markdown",
   "metadata": {},
   "source": [
    "# Training"
   ]
  },
  {
   "cell_type": "code",
   "execution_count": 3,
   "metadata": {},
   "outputs": [
    {
     "data": {
      "text/plain": [
       "btcusd    197829\n",
       "ethusd    115643\n",
       "Name: symbol, dtype: int64"
      ]
     },
     "execution_count": 3,
     "metadata": {},
     "output_type": "execute_result"
    }
   ],
   "source": [
    "# Load 'train' data, this is done so that the bot has already some\n",
    "# log returnes calculated at the start of his trading window\n",
    "# Basically bot just observes the market for the duration of train data\n",
    "# and starts trading on test data\n",
    "train_btc_df = pd.read_csv('data/Raw/Bitfinex/BTCUSD/2018_01/Bitfinex_BTCUSD_trades_2018_01_02.csv.gz')\n",
    "train_eth_df = pd.read_csv('data/Raw/Bitfinex/ETHUSD/2018_01/Bitfinex_ETHUSD_trades_2018_01_02.csv.gz')\n",
    "\n",
    "train_df = train_btc_df.append(train_eth_df)\n",
    "train_btc_df['date'] = pd.to_datetime(train_btc_df['date'],unit='ms')\n",
    "train_eth_df['date'] = pd.to_datetime(train_eth_df['date'],unit='ms')\n",
    "train_df.sort_values('date')\n",
    "train_df.symbol.value_counts()"
   ]
  },
  {
   "cell_type": "markdown",
   "metadata": {},
   "source": [
    "## Finding optimal momentum"
   ]
  },
  {
   "cell_type": "code",
   "execution_count": 4,
   "metadata": {},
   "outputs": [
    {
     "data": {
      "text/plain": [
       "<matplotlib.axes._subplots.AxesSubplot at 0x10cfc3ef0>"
      ]
     },
     "execution_count": 4,
     "metadata": {},
     "output_type": "execute_result"
    },
    {
     "data": {
      "image/png": "[encoded data removed]",
      "text/plain": [
       "<Figure size 432x288 with 1 Axes>"
      ]
     },
     "metadata": {},
     "output_type": "display_data"
    }
   ],
   "source": [
    "train_df['returns'] = np.log(train_df['price'] / train_df['price'].shift(1))\n",
    "\n",
    "momentum_cols = []\n",
    "\n",
    "for momentum in [10, 40, 80, 150]:\n",
    "    m_col = 'position_%s' % momentum\n",
    "    train_df[m_col] = np.sign(train_df['returns'].rolling(momentum).mean())\n",
    "    momentum_cols.append(m_col)\n",
    "    \n",
    "strats = ['returns']\n",
    "\n",
    "for m_col in momentum_cols:\n",
    "    strat = 'strategy_%s' % m_col.split('_')[1]\n",
    "    train_df[strat] = train_df[m_col].shift(1) * train_df['returns']\n",
    "    strats.append(strat)\n",
    "\n",
    "train_df[strats].dropna().cumsum().apply(np.exp).plot()"
   ]
  },
  {
   "cell_type": "markdown",
   "metadata": {},
   "source": [
    "# Sanity check unit tests"
   ]
  },
  {
   "cell_type": "code",
   "execution_count": 5,
   "metadata": {},
   "outputs": [
    {
     "name": "stdout",
     "output_type": "stream",
     "text": [
      "Creating btc - long order for 100.000000 @14722.000000\n",
      "{'btc': 100, 'eth': 0, 'usd': -1472200.0}\n",
      "Creating btc - short order for 100.000000 @14722.000000\n",
      "Bot assets in original state\n"
     ]
    },
    {
     "data": {
      "text/plain": [
       "{'btc': 0, 'eth': 0, 'usd': 0.0}"
      ]
     },
     "execution_count": 5,
     "metadata": {},
     "output_type": "execute_result"
    }
   ],
   "source": [
    "unit_bot = TradeBot(1, train_btc_df, train_eth_df)\n",
    "\n",
    "start_btc = unit_bot.assets['btc']\n",
    "start_usd = unit_bot.assets['usd']\n",
    "btc_price = unit_bot.last_prices['btc'] \n",
    "trade_units = unit_bot.trade_units\n",
    "unit_bot.create_order('long', 'btc', trade_units)\n",
    "\n",
    "print(unit_bot.assets)\n",
    "assert unit_bot.assets['usd'] == -1*trade_units * btc_price+start_usd\n",
    "\n",
    "unit_bot.create_order('short', 'btc', trade_units)\n",
    "end_btc = unit_bot.assets['btc']\n",
    "\n",
    "assert start_btc == end_btc, 'Assets calculation error'\n",
    "print('Bot assets in original state')\n",
    "unit_bot.assets"
   ]
  },
  {
   "cell_type": "code",
   "execution_count": 6,
   "metadata": {},
   "outputs": [
    {
     "name": "stdout",
     "output_type": "stream",
     "text": [
      "Creating btc - long order for 100.000000 @14722.000000\n",
      "Creating btc - short order for 50.000000 @14722.000000\n"
     ]
    },
    {
     "data": {
      "text/plain": [
       "{'btc': 50.0, 'eth': 0, 'usd': -736100.0}"
      ]
     },
     "execution_count": 6,
     "metadata": {},
     "output_type": "execute_result"
    }
   ],
   "source": [
    "unit_bot = TradeBot(15, train_btc_df, train_eth_df, 100)\n",
    "\n",
    "unit_bot.create_order('long', 'btc', trade_units)\n",
    "after_long_btc = unit_bot.assets['btc']\n",
    "after_long_usd = unit_bot.assets['usd']\n",
    "\n",
    "unit_bot.create_order('short', 'btc', trade_units / 2.)\n",
    "after_short_btc = unit_bot.assets['btc']\n",
    "after_short_usd = unit_bot.assets['usd']\n",
    "\n",
    "assert after_long_btc / 2. == after_short_btc, 'Assets calculation error'\n",
    "assert after_long_usd / 2. == after_short_usd , 'Assets calculation error'\n",
    "unit_bot.assets"
   ]
  },
  {
   "cell_type": "markdown",
   "metadata": {},
   "source": [
    "# Testing"
   ]
  },
  {
   "cell_type": "code",
   "execution_count": 7,
   "metadata": {},
   "outputs": [
    {
     "data": {
      "text/plain": [
       "btcusd    163143\n",
       "ethusd     94195\n",
       "Name: symbol, dtype: int64"
      ]
     },
     "execution_count": 7,
     "metadata": {},
     "output_type": "execute_result"
    }
   ],
   "source": [
    "# Test data\n",
    "test_btc_df = pd.read_csv('data/Raw/Bitfinex/BTCUSD/2018_01/Bitfinex_BTCUSD_trades_2018_01_03.csv.gz')\n",
    "test_eth_df = pd.read_csv('data/Raw/Bitfinex/ETHUSD/2018_01/Bitfinex_ETHUSD_trades_2018_01_03.csv.gz')\n",
    "test_df = test_btc_df.append(test_eth_df)\n",
    "test_df['date'] = pd.to_datetime(test_df['date'],unit='ms')\n",
    "test_df.sort_values('date')\n",
    "test_df.symbol.value_counts()"
   ]
  },
  {
   "cell_type": "code",
   "execution_count": 8,
   "metadata": {
    "scrolled": false
   },
   "outputs": [],
   "source": [
    "best_momentum = 10\n",
    "tick_limit = 100\n",
    "bot = TradeBot(best_momentum, train_btc_df, train_eth_df, tick_limit)"
   ]
  },
  {
   "cell_type": "code",
   "execution_count": 9,
   "metadata": {},
   "outputs": [
    {
     "name": "stdout",
     "output_type": "stream",
     "text": [
      "Creating eth - short order for 50.000000 @858.780000\n",
      "Creating btc - long order for 50.000000 @14717.000000\n",
      "Creating btc - short order for 100.000000 @14713.000000\n",
      "Creating btc - long order for 100.000000 @14717.000000\n",
      "Creating btc - short order for 50.000000 @14728.000000\n",
      "Creating eth - long order for 50.000000 @858.780000\n",
      "Trading window ended!\n"
     ]
    },
    {
     "data": {
      "text/plain": [
       "{'btc': 0.0, 'eth': 0.0, 'usd': 150.0}"
      ]
     },
     "execution_count": 9,
     "metadata": {},
     "output_type": "execute_result"
    }
   ],
   "source": [
    "for idx, tick in test_df[:bot.tick_limit+1].iterrows():\n",
    "        bot.on_tick(tick)\n",
    "bot.assets"
   ]
  },
  {
   "cell_type": "code",
   "execution_count": null,
   "metadata": {},
   "outputs": [],
   "source": []
  }
 ],
 "metadata": {
  "kernelspec": {
   "display_name": "Python 3",
   "language": "python",
   "name": "python3"
  },
  "language_info": {
   "codemirror_mode": {
    "name": "ipython",
    "version": 3
   },
   "file_extension": ".py",
   "mimetype": "text/x-python",
   "name": "python",
   "nbconvert_exporter": "python",
   "pygments_lexer": "ipython3",
   "version": "3.6.3"
  }
 },
 "nbformat": 4,
 "nbformat_minor": 2
}
