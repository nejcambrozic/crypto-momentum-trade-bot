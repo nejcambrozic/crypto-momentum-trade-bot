{
 "cells": [
  {
   "cell_type": "code",
   "execution_count": 1,
   "metadata": {},
   "outputs": [
    {
     "data": {
      "text/html": [
       "<script>requirejs.config({paths: { 'plotly': ['https://cdn.plot.ly/plotly-latest.min']},});if(!window.Plotly) {{require(['plotly'],function(plotly) {window.Plotly=plotly;});}}</script>"
      ],
      "text/vnd.plotly.v1+html": [
       "<script>requirejs.config({paths: { 'plotly': ['https://cdn.plot.ly/plotly-latest.min']},});if(!window.Plotly) {{require(['plotly'],function(plotly) {window.Plotly=plotly;});}}</script>"
      ]
     },
     "metadata": {},
     "output_type": "display_data"
    }
   ],
   "source": [
    "import glob\n",
    "import numpy as np\n",
    "import pandas as pd\n",
    "import plotly\n",
    "import plotly.graph_objs as go\n",
    "plotly.offline.init_notebook_mode(connected=True)\n",
    "import os\n",
    "from datetime import datetime"
   ]
  },
  {
   "cell_type": "markdown",
   "metadata": {},
   "source": [
    "# Load the Data"
   ]
  },
  {
   "cell_type": "code",
   "execution_count": 2,
   "metadata": {},
   "outputs": [],
   "source": [
    "exchange = 'Bitfinex'\n",
    "currency = 'BTC'  # or BTC\n",
    "\n",
    "# Load data for te whole month\n",
    "load_whole_month = False\n",
    "# Load data only for 1 day\n",
    "load_whole_day = True\n",
    "\n",
    "assert load_whole_month ^ load_whole_day, 'Can only load 1 month or 1 day'\n",
    "\n",
    "year_month_to_load = '2018_01'\n",
    "day_to_load = '01' # gets ignored if loading data for the whole month"
   ]
  },
  {
   "cell_type": "code",
   "execution_count": 4,
   "metadata": {},
   "outputs": [
    {
     "name": "stdout",
     "output_type": "stream",
     "text": [
      "Reading data/Raw/Bitfinex/BTCUSD/2018_01/Bitfinex_BTCUSD_trades_2018_01_01.csv.gz\n"
     ]
    },
    {
     "data": {
      "text/plain": [
       "(117998, 7)"
      ]
     },
     "execution_count": 4,
     "metadata": {},
     "output_type": "execute_result"
    }
   ],
   "source": [
    "if load_whole_month:\n",
    "    trade_days = glob.glob(\"data/Raw/%s/%sUSD/%s/*.csv.gz\" % (exchange, currency, year_month_to_load))\n",
    "    \n",
    "    df_list = [pd.read_csv(trade_day) for trade_day in trade_days]\n",
    "    print('Read %d days of trading' % len(df_list))\n",
    "    df = pd.concat(df_list)\n",
    "else:\n",
    "    filename = 'data/Raw/%s/%sUSD/%s/%s_%sUSD_trades_%s_%s.csv.gz'  % (exchange, currency, year_month_to_load,\n",
    "                                                                             exchange, currency, year_month_to_load,\n",
    "                                                                         day_to_load)\n",
    "    print('Reading %s' % filename)\n",
    "    df = pd.read_csv(filename)\n",
    "df.shape"
   ]
  },
  {
   "cell_type": "code",
   "execution_count": 5,
   "metadata": {},
   "outputs": [
    {
     "data": {
      "text/html": [
       "<div>\n",
       "<style scoped>\n",
       "    .dataframe tbody tr th:only-of-type {\n",
       "        vertical-align: middle;\n",
       "    }\n",
       "\n",
       "    .dataframe tbody tr th {\n",
       "        vertical-align: top;\n",
       "    }\n",
       "\n",
       "    .dataframe thead th {\n",
       "        text-align: right;\n",
       "    }\n",
       "</style>\n",
       "<table border=\"1\" class=\"dataframe\">\n",
       "  <thead>\n",
       "    <tr style=\"text-align: right;\">\n",
       "      <th></th>\n",
       "      <th>id</th>\n",
       "      <th>exchange</th>\n",
       "      <th>symbol</th>\n",
       "      <th>price</th>\n",
       "      <th>amount</th>\n",
       "      <th>sell</th>\n",
       "    </tr>\n",
       "    <tr>\n",
       "      <th>date</th>\n",
       "      <th></th>\n",
       "      <th></th>\n",
       "      <th></th>\n",
       "      <th></th>\n",
       "      <th></th>\n",
       "      <th></th>\n",
       "    </tr>\n",
       "  </thead>\n",
       "  <tbody>\n",
       "    <tr>\n",
       "      <th>2018-01-01 00:00:01</th>\n",
       "      <td>24774565</td>\n",
       "      <td>bf</td>\n",
       "      <td>btcusd</td>\n",
       "      <td>13763.0</td>\n",
       "      <td>0.100000</td>\n",
       "      <td>True</td>\n",
       "    </tr>\n",
       "    <tr>\n",
       "      <th>2018-01-01 00:00:01</th>\n",
       "      <td>24774566</td>\n",
       "      <td>bf</td>\n",
       "      <td>btcusd</td>\n",
       "      <td>13766.0</td>\n",
       "      <td>0.010000</td>\n",
       "      <td>False</td>\n",
       "    </tr>\n",
       "    <tr>\n",
       "      <th>2018-01-01 00:00:02</th>\n",
       "      <td>24774567</td>\n",
       "      <td>bf</td>\n",
       "      <td>btcusd</td>\n",
       "      <td>13766.0</td>\n",
       "      <td>0.025234</td>\n",
       "      <td>False</td>\n",
       "    </tr>\n",
       "    <tr>\n",
       "      <th>2018-01-01 00:00:02</th>\n",
       "      <td>24774568</td>\n",
       "      <td>bf</td>\n",
       "      <td>btcusd</td>\n",
       "      <td>13766.0</td>\n",
       "      <td>0.244811</td>\n",
       "      <td>False</td>\n",
       "    </tr>\n",
       "    <tr>\n",
       "      <th>2018-01-01 00:00:02</th>\n",
       "      <td>24774569</td>\n",
       "      <td>bf</td>\n",
       "      <td>btcusd</td>\n",
       "      <td>13767.0</td>\n",
       "      <td>0.105929</td>\n",
       "      <td>False</td>\n",
       "    </tr>\n",
       "  </tbody>\n",
       "</table>\n",
       "</div>"
      ],
      "text/plain": [
       "                           id exchange  symbol    price    amount   sell\n",
       "date                                                                    \n",
       "2018-01-01 00:00:01  24774565       bf  btcusd  13763.0  0.100000   True\n",
       "2018-01-01 00:00:01  24774566       bf  btcusd  13766.0  0.010000  False\n",
       "2018-01-01 00:00:02  24774567       bf  btcusd  13766.0  0.025234  False\n",
       "2018-01-01 00:00:02  24774568       bf  btcusd  13766.0  0.244811  False\n",
       "2018-01-01 00:00:02  24774569       bf  btcusd  13767.0  0.105929  False"
      ]
     },
     "execution_count": 5,
     "metadata": {},
     "output_type": "execute_result"
    }
   ],
   "source": [
    "df['date'] = pd.to_datetime(df['date'],unit='ms')\n",
    "df = df.set_index('date')\n",
    "df.head()"
   ]
  },
  {
   "cell_type": "markdown",
   "metadata": {},
   "source": [
    "# OHLC"
   ]
  },
  {
   "cell_type": "code",
   "execution_count": 6,
   "metadata": {},
   "outputs": [
    {
     "data": {
      "text/html": [
       "<div>\n",
       "<style scoped>\n",
       "    .dataframe tbody tr th:only-of-type {\n",
       "        vertical-align: middle;\n",
       "    }\n",
       "\n",
       "    .dataframe tbody tr th {\n",
       "        vertical-align: top;\n",
       "    }\n",
       "\n",
       "    .dataframe thead th {\n",
       "        text-align: right;\n",
       "    }\n",
       "</style>\n",
       "<table border=\"1\" class=\"dataframe\">\n",
       "  <thead>\n",
       "    <tr style=\"text-align: right;\">\n",
       "      <th></th>\n",
       "      <th>open</th>\n",
       "      <th>high</th>\n",
       "      <th>low</th>\n",
       "      <th>close</th>\n",
       "    </tr>\n",
       "    <tr>\n",
       "      <th>date</th>\n",
       "      <th></th>\n",
       "      <th></th>\n",
       "      <th></th>\n",
       "      <th></th>\n",
       "    </tr>\n",
       "  </thead>\n",
       "  <tbody>\n",
       "    <tr>\n",
       "      <th>2018-01-01 00:00:00</th>\n",
       "      <td>13763.0</td>\n",
       "      <td>13788.0</td>\n",
       "      <td>13505.0</td>\n",
       "      <td>13607.0</td>\n",
       "    </tr>\n",
       "    <tr>\n",
       "      <th>2018-01-01 01:00:00</th>\n",
       "      <td>13621.0</td>\n",
       "      <td>13655.0</td>\n",
       "      <td>13251.0</td>\n",
       "      <td>13281.0</td>\n",
       "    </tr>\n",
       "    <tr>\n",
       "      <th>2018-01-01 02:00:00</th>\n",
       "      <td>13280.0</td>\n",
       "      <td>13440.0</td>\n",
       "      <td>13214.0</td>\n",
       "      <td>13362.0</td>\n",
       "    </tr>\n",
       "    <tr>\n",
       "      <th>2018-01-01 03:00:00</th>\n",
       "      <td>13363.0</td>\n",
       "      <td>13591.0</td>\n",
       "      <td>13310.0</td>\n",
       "      <td>13394.0</td>\n",
       "    </tr>\n",
       "    <tr>\n",
       "      <th>2018-01-01 04:00:00</th>\n",
       "      <td>13393.0</td>\n",
       "      <td>13584.0</td>\n",
       "      <td>13262.0</td>\n",
       "      <td>13584.0</td>\n",
       "    </tr>\n",
       "  </tbody>\n",
       "</table>\n",
       "</div>"
      ],
      "text/plain": [
       "                        open     high      low    close\n",
       "date                                                   \n",
       "2018-01-01 00:00:00  13763.0  13788.0  13505.0  13607.0\n",
       "2018-01-01 01:00:00  13621.0  13655.0  13251.0  13281.0\n",
       "2018-01-01 02:00:00  13280.0  13440.0  13214.0  13362.0\n",
       "2018-01-01 03:00:00  13363.0  13591.0  13310.0  13394.0\n",
       "2018-01-01 04:00:00  13393.0  13584.0  13262.0  13584.0"
      ]
     },
     "execution_count": 6,
     "metadata": {},
     "output_type": "execute_result"
    }
   ],
   "source": [
    "ohlc_bar_len = '1H' # 30Min\n",
    "df_ohlc = df['price'].resample(ohlc_bar_len).ohlc()\n",
    "df_ohlc.head()"
   ]
  },
  {
   "cell_type": "markdown",
   "metadata": {},
   "source": [
    "## DUMP"
   ]
  },
  {
   "cell_type": "code",
   "execution_count": 7,
   "metadata": {},
   "outputs": [],
   "source": [
    "def _create_dir(path):\n",
    "    if not os.path.exists(path):\n",
    "        os.makedirs(path)"
   ]
  },
  {
   "cell_type": "code",
   "execution_count": 8,
   "metadata": {},
   "outputs": [],
   "source": [
    "target_dir = 'data/processed/%s/%sUSD/%s' % ((exchange, currency, year_month_to_load))\n",
    "_create_dir(target_dir)\n",
    "\n",
    "if load_whole_month:\n",
    "    df_ohlc.to_csv(target_dir+'/ohlc_%s_%sUSD_%s.csv' % (exchange, currency, year_month_to_load), index=False)\n",
    "else:\n",
    "    df_ohlc.to_csv(target_dir+'/ohlc_%s_%sUSD_trades_%s_%s.csv.gz'  % (exchange, currency, year_month_to_load, day_to_load),\n",
    "                  index=False)"
   ]
  },
  {
   "cell_type": "markdown",
   "metadata": {},
   "source": [
    "## PLOT"
   ]
  },
  {
   "cell_type": "code",
   "execution_count": 9,
   "metadata": {},
   "outputs": [
    {
     "data": {
      "application/vnd.plotly.v1+json": {
       "data": [
        {
         "close": [
          13607,
          13281,
          13362,
          13394,
          13584,
          13501,
          13781,
          13617,
          13417,
          13582,
          13543,
          13231,
          13144,
          13022,
          13193.444290000001,
          13208,
          12997,
          12993,
          13105,
          13249,
          13404,
          13505,
          13483,
          13376
         ],
         "high": [
          13788,
          13655,
          13440,
          13591,
          13584,
          13608,
          13839,
          13893,
          13751,
          13622,
          13585,
          13550,
          13265,
          13162,
          13200,
          13290,
          13209,
          13177,
          13289,
          13253,
          13499,
          13662,
          13637,
          13492
         ],
         "low": [
          13505,
          13251,
          13214,
          13310,
          13262,
          13479,
          13435,
          13603,
          13389,
          13416.4928846,
          13427,
          13072,
          13092,
          12900,
          12777,
          13085,
          12969,
          12986,
          12950.009533499999,
          13050,
          13249,
          13382,
          13465,
          13341
         ],
         "open": [
          13763,
          13621,
          13280,
          13363,
          13393,
          13584,
          13511,
          13780,
          13616,
          13417,
          13573,
          13543,
          13234,
          13143.0784783,
          13022,
          13171,
          13208,
          12999,
          12993,
          13106,
          13249,
          13404,
          13505,
          13478
         ],
         "type": "candlestick",
         "x": [
          "2018-01-01",
          "2018-01-01 01:00:00",
          "2018-01-01 02:00:00",
          "2018-01-01 03:00:00",
          "2018-01-01 04:00:00",
          "2018-01-01 05:00:00",
          "2018-01-01 06:00:00",
          "2018-01-01 07:00:00",
          "2018-01-01 08:00:00",
          "2018-01-01 09:00:00",
          "2018-01-01 10:00:00",
          "2018-01-01 11:00:00",
          "2018-01-01 12:00:00",
          "2018-01-01 13:00:00",
          "2018-01-01 14:00:00",
          "2018-01-01 15:00:00",
          "2018-01-01 16:00:00",
          "2018-01-01 17:00:00",
          "2018-01-01 18:00:00",
          "2018-01-01 19:00:00",
          "2018-01-01 20:00:00",
          "2018-01-01 21:00:00",
          "2018-01-01 22:00:00",
          "2018-01-01 23:00:00"
         ]
        }
       ],
       "layout": {}
      },
      "text/html": [
       "<div id=\"fcbfcc74-337a-4137-9423-e7e62fcd12f1\" style=\"height: 525px; width: 100%;\" class=\"plotly-graph-div\"></div><script type=\"text/javascript\">require([\"plotly\"], function(Plotly) { window.PLOTLYENV=window.PLOTLYENV || {};window.PLOTLYENV.BASE_URL=\"https://plot.ly\";Plotly.newPlot(\"fcbfcc74-337a-4137-9423-e7e62fcd12f1\", [{\"type\": \"candlestick\", \"x\": [\"2018-01-01\", \"2018-01-01 01:00:00\", \"2018-01-01 02:00:00\", \"2018-01-01 03:00:00\", \"2018-01-01 04:00:00\", \"2018-01-01 05:00:00\", \"2018-01-01 06:00:00\", \"2018-01-01 07:00:00\", \"2018-01-01 08:00:00\", \"2018-01-01 09:00:00\", \"2018-01-01 10:00:00\", \"2018-01-01 11:00:00\", \"2018-01-01 12:00:00\", \"2018-01-01 13:00:00\", \"2018-01-01 14:00:00\", \"2018-01-01 15:00:00\", \"2018-01-01 16:00:00\", \"2018-01-01 17:00:00\", \"2018-01-01 18:00:00\", \"2018-01-01 19:00:00\", \"2018-01-01 20:00:00\", \"2018-01-01 21:00:00\", \"2018-01-01 22:00:00\", \"2018-01-01 23:00:00\"], \"open\": [13763.0, 13621.0, 13280.0, 13363.0, 13393.0, 13584.0, 13511.0, 13780.0, 13616.0, 13417.0, 13573.0, 13543.0, 13234.0, 13143.0784783, 13022.0, 13171.0, 13208.0, 12999.0, 12993.0, 13106.0, 13249.0, 13404.0, 13505.0, 13478.0], \"high\": [13788.0, 13655.0, 13440.0, 13591.0, 13584.0, 13608.0, 13839.0, 13893.0, 13751.0, 13622.0, 13585.0, 13550.0, 13265.0, 13162.0, 13200.0, 13290.0, 13209.0, 13177.0, 13289.0, 13253.0, 13499.0, 13662.0, 13637.0, 13492.0], \"low\": [13505.0, 13251.0, 13214.0, 13310.0, 13262.0, 13479.0, 13435.0, 13603.0, 13389.0, 13416.4928846, 13427.0, 13072.0, 13092.0, 12900.0, 12777.0, 13085.0, 12969.0, 12986.0, 12950.009533499999, 13050.0, 13249.0, 13382.0, 13465.0, 13341.0], \"close\": [13607.0, 13281.0, 13362.0, 13394.0, 13584.0, 13501.0, 13781.0, 13617.0, 13417.0, 13582.0, 13543.0, 13231.0, 13144.0, 13022.0, 13193.444290000001, 13208.0, 12997.0, 12993.0, 13105.0, 13249.0, 13404.0, 13505.0, 13483.0, 13376.0]}], {}, {\"showLink\": true, \"linkText\": \"Export to plot.ly\"})});</script>"
      ],
      "text/vnd.plotly.v1+html": [
       "<div id=\"fcbfcc74-337a-4137-9423-e7e62fcd12f1\" style=\"height: 525px; width: 100%;\" class=\"plotly-graph-div\"></div><script type=\"text/javascript\">require([\"plotly\"], function(Plotly) { window.PLOTLYENV=window.PLOTLYENV || {};window.PLOTLYENV.BASE_URL=\"https://plot.ly\";Plotly.newPlot(\"fcbfcc74-337a-4137-9423-e7e62fcd12f1\", [{\"type\": \"candlestick\", \"x\": [\"2018-01-01\", \"2018-01-01 01:00:00\", \"2018-01-01 02:00:00\", \"2018-01-01 03:00:00\", \"2018-01-01 04:00:00\", \"2018-01-01 05:00:00\", \"2018-01-01 06:00:00\", \"2018-01-01 07:00:00\", \"2018-01-01 08:00:00\", \"2018-01-01 09:00:00\", \"2018-01-01 10:00:00\", \"2018-01-01 11:00:00\", \"2018-01-01 12:00:00\", \"2018-01-01 13:00:00\", \"2018-01-01 14:00:00\", \"2018-01-01 15:00:00\", \"2018-01-01 16:00:00\", \"2018-01-01 17:00:00\", \"2018-01-01 18:00:00\", \"2018-01-01 19:00:00\", \"2018-01-01 20:00:00\", \"2018-01-01 21:00:00\", \"2018-01-01 22:00:00\", \"2018-01-01 23:00:00\"], \"open\": [13763.0, 13621.0, 13280.0, 13363.0, 13393.0, 13584.0, 13511.0, 13780.0, 13616.0, 13417.0, 13573.0, 13543.0, 13234.0, 13143.0784783, 13022.0, 13171.0, 13208.0, 12999.0, 12993.0, 13106.0, 13249.0, 13404.0, 13505.0, 13478.0], \"high\": [13788.0, 13655.0, 13440.0, 13591.0, 13584.0, 13608.0, 13839.0, 13893.0, 13751.0, 13622.0, 13585.0, 13550.0, 13265.0, 13162.0, 13200.0, 13290.0, 13209.0, 13177.0, 13289.0, 13253.0, 13499.0, 13662.0, 13637.0, 13492.0], \"low\": [13505.0, 13251.0, 13214.0, 13310.0, 13262.0, 13479.0, 13435.0, 13603.0, 13389.0, 13416.4928846, 13427.0, 13072.0, 13092.0, 12900.0, 12777.0, 13085.0, 12969.0, 12986.0, 12950.009533499999, 13050.0, 13249.0, 13382.0, 13465.0, 13341.0], \"close\": [13607.0, 13281.0, 13362.0, 13394.0, 13584.0, 13501.0, 13781.0, 13617.0, 13417.0, 13582.0, 13543.0, 13231.0, 13144.0, 13022.0, 13193.444290000001, 13208.0, 12997.0, 12993.0, 13105.0, 13249.0, 13404.0, 13505.0, 13483.0, 13376.0]}], {}, {\"showLink\": true, \"linkText\": \"Export to plot.ly\"})});</script>"
      ]
     },
     "metadata": {},
     "output_type": "display_data"
    }
   ],
   "source": [
    "ohlcs = go.Candlestick(x=df_ohlc.index,\n",
    "                       open=df_ohlc.open,\n",
    "                       high=df_ohlc.high,\n",
    "                       low=df_ohlc.low,\n",
    "                       close=df_ohlc.close)\n",
    "plotly.offline.iplot([ohlcs])"
   ]
  },
  {
   "cell_type": "code",
   "execution_count": null,
   "metadata": {},
   "outputs": [],
   "source": []
  }
 ],
 "metadata": {
  "kernelspec": {
   "display_name": "Python 3",
   "language": "python",
   "name": "python3"
  },
  "language_info": {
   "codemirror_mode": {
    "name": "ipython",
    "version": 3
   },
   "file_extension": ".py",
   "mimetype": "text/x-python",
   "name": "python",
   "nbconvert_exporter": "python",
   "pygments_lexer": "ipython3",
   "version": "3.6.3"
  }
 },
 "nbformat": 4,
 "nbformat_minor": 2
}
